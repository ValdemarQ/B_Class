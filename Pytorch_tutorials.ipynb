{
  "nbformat": 4,
  "nbformat_minor": 0,
  "metadata": {
    "colab": {
      "name": "Pytorch tutorials.ipynb",
      "provenance": [],
      "collapsed_sections": []
    },
    "kernelspec": {
      "name": "python3",
      "display_name": "Python 3"
    },
    "accelerator": "GPU"
  },
  "cells": [
    {
      "cell_type": "code",
      "metadata": {
        "id": "tZSMXhY5wpml",
        "colab_type": "code",
        "colab": {}
      },
      "source": [
        "import torch"
      ],
      "execution_count": 0,
      "outputs": []
    },
    {
      "cell_type": "markdown",
      "metadata": {
        "id": "qCx4jrUlybCL",
        "colab_type": "text"
      },
      "source": [
        "# Tensors"
      ]
    },
    {
      "cell_type": "code",
      "metadata": {
        "id": "s9UxNhofwrZM",
        "colab_type": "code",
        "outputId": "4f92668b-43df-4391-8532-2bcd5891236d",
        "colab": {
          "base_uri": "https://localhost:8080/",
          "height": 107
        }
      },
      "source": [
        "#creating empty tensor\n",
        "x = torch.empty(2,2,3)\n",
        "x"
      ],
      "execution_count": 2,
      "outputs": [
        {
          "output_type": "execute_result",
          "data": {
            "text/plain": [
              "tensor([[[5.2418e-36, 0.0000e+00, 0.0000e+00],\n",
              "         [0.0000e+00, 0.0000e+00, 0.0000e+00]],\n",
              "\n",
              "        [[0.0000e+00, 0.0000e+00, 2.8026e-45],\n",
              "         [0.0000e+00, 1.1210e-44, 0.0000e+00]]])"
            ]
          },
          "metadata": {
            "tags": []
          },
          "execution_count": 2
        }
      ]
    },
    {
      "cell_type": "code",
      "metadata": {
        "id": "JOEerLZDwta6",
        "colab_type": "code",
        "outputId": "b6d9cbfd-6339-42e0-8d59-101454914654",
        "colab": {
          "base_uri": "https://localhost:8080/",
          "height": 35
        }
      },
      "source": [
        "#creating random tensor\n",
        "x = torch.rand(3)\n",
        "x"
      ],
      "execution_count": 3,
      "outputs": [
        {
          "output_type": "execute_result",
          "data": {
            "text/plain": [
              "tensor([0.1584, 0.5163, 0.5537])"
            ]
          },
          "metadata": {
            "tags": []
          },
          "execution_count": 3
        }
      ]
    },
    {
      "cell_type": "code",
      "metadata": {
        "id": "j_KRWBHCwuOK",
        "colab_type": "code",
        "outputId": "ce014773-2fe5-4085-c97d-0069ed3d082d",
        "colab": {
          "base_uri": "https://localhost:8080/",
          "height": 35
        }
      },
      "source": [
        "#create torch with 0 or 1s\n",
        "x = torch.ones(2,3)\n",
        "x.dtype"
      ],
      "execution_count": 4,
      "outputs": [
        {
          "output_type": "execute_result",
          "data": {
            "text/plain": [
              "torch.float32"
            ]
          },
          "metadata": {
            "tags": []
          },
          "execution_count": 4
        }
      ]
    },
    {
      "cell_type": "code",
      "metadata": {
        "id": "NZydLFMAxnJ0",
        "colab_type": "code",
        "outputId": "19436df3-a9d4-4996-bec2-048778b089d1",
        "colab": {
          "base_uri": "https://localhost:8080/",
          "height": 35
        }
      },
      "source": [
        "#create your own tensor as you want\n",
        "x = torch.tensor([2.5,0.1])\n",
        "x"
      ],
      "execution_count": 5,
      "outputs": [
        {
          "output_type": "execute_result",
          "data": {
            "text/plain": [
              "tensor([2.5000, 0.1000])"
            ]
          },
          "metadata": {
            "tags": []
          },
          "execution_count": 5
        }
      ]
    },
    {
      "cell_type": "code",
      "metadata": {
        "id": "1DTs6wa3xKAU",
        "colab_type": "code",
        "outputId": "b159caf7-c2b5-4df8-94ee-866172df9e6b",
        "colab": {
          "base_uri": "https://localhost:8080/",
          "height": 35
        }
      },
      "source": [
        "#create torch with different types\n",
        "x = torch.ones(2,3, dtype=torch.int) #doubles, float16 etc...\n",
        "x.dtype"
      ],
      "execution_count": 6,
      "outputs": [
        {
          "output_type": "execute_result",
          "data": {
            "text/plain": [
              "torch.int32"
            ]
          },
          "metadata": {
            "tags": []
          },
          "execution_count": 6
        }
      ]
    },
    {
      "cell_type": "code",
      "metadata": {
        "id": "fSI2Z7i4xWpK",
        "colab_type": "code",
        "outputId": "a1a3133e-8193-4595-bcac-55323b9f5314",
        "colab": {
          "base_uri": "https://localhost:8080/",
          "height": 35
        }
      },
      "source": [
        "#check size of a tensor\n",
        "x.size()"
      ],
      "execution_count": 7,
      "outputs": [
        {
          "output_type": "execute_result",
          "data": {
            "text/plain": [
              "torch.Size([2, 3])"
            ]
          },
          "metadata": {
            "tags": []
          },
          "execution_count": 7
        }
      ]
    },
    {
      "cell_type": "markdown",
      "metadata": {
        "id": "yPQ7zlYNyf_x",
        "colab_type": "text"
      },
      "source": [
        "# Basic tensor operations"
      ]
    },
    {
      "cell_type": "code",
      "metadata": {
        "id": "GXyLXmMuyhXb",
        "colab_type": "code",
        "outputId": "d15acd83-1c42-44b5-df6d-287c7623816c",
        "colab": {
          "base_uri": "https://localhost:8080/",
          "height": 89
        }
      },
      "source": [
        "x = torch.rand(2,2)\n",
        "y = torch.rand(2,2)\n",
        "print(x)\n",
        "print(y)"
      ],
      "execution_count": 8,
      "outputs": [
        {
          "output_type": "stream",
          "text": [
            "tensor([[0.3365, 0.7350],\n",
            "        [0.2881, 0.8531]])\n",
            "tensor([[0.9568, 0.3192],\n",
            "        [0.1838, 0.3625]])\n"
          ],
          "name": "stdout"
        }
      ]
    },
    {
      "cell_type": "code",
      "metadata": {
        "id": "X6XQY7Nnylpq",
        "colab_type": "code",
        "outputId": "28d75823-50a9-488e-e214-e29964e1469b",
        "colab": {
          "base_uri": "https://localhost:8080/",
          "height": 53
        }
      },
      "source": [
        "z = x + y #element wise addition\n",
        "z"
      ],
      "execution_count": 9,
      "outputs": [
        {
          "output_type": "execute_result",
          "data": {
            "text/plain": [
              "tensor([[1.2933, 1.0541],\n",
              "        [0.4719, 1.2156]])"
            ]
          },
          "metadata": {
            "tags": []
          },
          "execution_count": 9
        }
      ]
    },
    {
      "cell_type": "code",
      "metadata": {
        "id": "dUNiqBzzypCS",
        "colab_type": "code",
        "outputId": "30a69cda-0cdd-43bc-a669-86933af16df4",
        "colab": {
          "base_uri": "https://localhost:8080/",
          "height": 53
        }
      },
      "source": [
        "z = torch.add(x,y) #same as top version\n",
        "z"
      ],
      "execution_count": 10,
      "outputs": [
        {
          "output_type": "execute_result",
          "data": {
            "text/plain": [
              "tensor([[1.2933, 1.0541],\n",
              "        [0.4719, 1.2156]])"
            ]
          },
          "metadata": {
            "tags": []
          },
          "execution_count": 10
        }
      ]
    },
    {
      "cell_type": "code",
      "metadata": {
        "id": "6Gcb8wQvyyqD",
        "colab_type": "code",
        "outputId": "9dec59ce-db28-4343-f308-2db94a570576",
        "colab": {
          "base_uri": "https://localhost:8080/",
          "height": 53
        }
      },
      "source": [
        "y.add_(x) #_ makes inplace operation - same addition replacing y value x + y\n",
        "y"
      ],
      "execution_count": 11,
      "outputs": [
        {
          "output_type": "execute_result",
          "data": {
            "text/plain": [
              "tensor([[1.2933, 1.0541],\n",
              "        [0.4719, 1.2156]])"
            ]
          },
          "metadata": {
            "tags": []
          },
          "execution_count": 11
        }
      ]
    },
    {
      "cell_type": "code",
      "metadata": {
        "id": "_cwvGGaqzMpL",
        "colab_type": "code",
        "outputId": "0e097695-e11e-4c09-e064-41a3440e3376",
        "colab": {
          "base_uri": "https://localhost:8080/",
          "height": 53
        }
      },
      "source": [
        "z = x - y #or z = torch.sub(x,y)\n",
        "z"
      ],
      "execution_count": 12,
      "outputs": [
        {
          "output_type": "execute_result",
          "data": {
            "text/plain": [
              "tensor([[-0.9568, -0.3192],\n",
              "        [-0.1838, -0.3625]])"
            ]
          },
          "metadata": {
            "tags": []
          },
          "execution_count": 12
        }
      ]
    },
    {
      "cell_type": "code",
      "metadata": {
        "id": "nu7KOS2EzOv6",
        "colab_type": "code",
        "outputId": "c757d92f-9157-4081-b951-a2ddf2afc269",
        "colab": {
          "base_uri": "https://localhost:8080/",
          "height": 53
        }
      },
      "source": [
        "z = x * y #or z = torch.mul(x,y)\n",
        "z"
      ],
      "execution_count": 13,
      "outputs": [
        {
          "output_type": "execute_result",
          "data": {
            "text/plain": [
              "tensor([[0.4352, 0.7748],\n",
              "        [0.1359, 1.0370]])"
            ]
          },
          "metadata": {
            "tags": []
          },
          "execution_count": 13
        }
      ]
    },
    {
      "cell_type": "markdown",
      "metadata": {
        "id": "C1eDUFmx4ofc",
        "colab_type": "text"
      },
      "source": [
        "# Slicing example"
      ]
    },
    {
      "cell_type": "code",
      "metadata": {
        "id": "1pTLrdu2zWxD",
        "colab_type": "code",
        "outputId": "ad6fc0c5-cd32-4f3a-98bd-a22a778a2546",
        "colab": {
          "base_uri": "https://localhost:8080/",
          "height": 107
        }
      },
      "source": [
        "x = torch.rand(5,3)\n",
        "x"
      ],
      "execution_count": 14,
      "outputs": [
        {
          "output_type": "execute_result",
          "data": {
            "text/plain": [
              "tensor([[0.3145, 0.9064, 0.4650],\n",
              "        [0.0687, 0.7879, 0.7986],\n",
              "        [0.0280, 0.2310, 0.5879],\n",
              "        [0.4856, 0.4464, 0.3242],\n",
              "        [0.3877, 0.9108, 0.4046]])"
            ]
          },
          "metadata": {
            "tags": []
          },
          "execution_count": 14
        }
      ]
    },
    {
      "cell_type": "code",
      "metadata": {
        "id": "AkXch2tYzwHV",
        "colab_type": "code",
        "outputId": "9f00f5fc-dce6-40c8-9659-07a74f052a30",
        "colab": {
          "base_uri": "https://localhost:8080/",
          "height": 35
        }
      },
      "source": [
        "x[:,0] #1st row of the first column"
      ],
      "execution_count": 15,
      "outputs": [
        {
          "output_type": "execute_result",
          "data": {
            "text/plain": [
              "tensor([0.3145, 0.0687, 0.0280, 0.4856, 0.3877])"
            ]
          },
          "metadata": {
            "tags": []
          },
          "execution_count": 15
        }
      ]
    },
    {
      "cell_type": "code",
      "metadata": {
        "id": "-B9Ix3vAzdcK",
        "colab_type": "code",
        "outputId": "ead4da1f-695f-4bd2-80bd-06c11a45ca22",
        "colab": {
          "base_uri": "https://localhost:8080/",
          "height": 35
        }
      },
      "source": [
        "x[1,:] #2nd row of all columns"
      ],
      "execution_count": 16,
      "outputs": [
        {
          "output_type": "execute_result",
          "data": {
            "text/plain": [
              "tensor([0.0687, 0.7879, 0.7986])"
            ]
          },
          "metadata": {
            "tags": []
          },
          "execution_count": 16
        }
      ]
    },
    {
      "cell_type": "code",
      "metadata": {
        "id": "9faRWIEGzscr",
        "colab_type": "code",
        "outputId": "e4d5f274-30a7-4fdc-f16e-28d2e7ae2a94",
        "colab": {
          "base_uri": "https://localhost:8080/",
          "height": 35
        }
      },
      "source": [
        "x[1,1] #getting exact value"
      ],
      "execution_count": 17,
      "outputs": [
        {
          "output_type": "execute_result",
          "data": {
            "text/plain": [
              "tensor(0.7879)"
            ]
          },
          "metadata": {
            "tags": []
          },
          "execution_count": 17
        }
      ]
    },
    {
      "cell_type": "markdown",
      "metadata": {
        "id": "lSaptIZM4uQ0",
        "colab_type": "text"
      },
      "source": [
        "# Reshaping tensor"
      ]
    },
    {
      "cell_type": "code",
      "metadata": {
        "id": "ZcZ4CyS04Xg0",
        "colab_type": "code",
        "outputId": "e18a4640-a7e5-4b3c-8f82-d1390e071b58",
        "colab": {
          "base_uri": "https://localhost:8080/",
          "height": 89
        }
      },
      "source": [
        "x = torch.rand(4,4)\n",
        "x"
      ],
      "execution_count": 18,
      "outputs": [
        {
          "output_type": "execute_result",
          "data": {
            "text/plain": [
              "tensor([[0.2737, 0.3189, 0.6497, 0.6191],\n",
              "        [0.6617, 0.8573, 0.5016, 0.5373],\n",
              "        [0.4988, 0.4935, 0.3746, 0.2720],\n",
              "        [0.2299, 0.9461, 0.4888, 0.3515]])"
            ]
          },
          "metadata": {
            "tags": []
          },
          "execution_count": 18
        }
      ]
    },
    {
      "cell_type": "code",
      "metadata": {
        "id": "70pKLAqv4ei6",
        "colab_type": "code",
        "outputId": "e31fd0db-3b94-4502-f075-f5fdd9263798",
        "colab": {
          "base_uri": "https://localhost:8080/",
          "height": 53
        }
      },
      "source": [
        "y = x.view(16) #making 1d vector from X, number of elements must be the same\n",
        "y"
      ],
      "execution_count": 19,
      "outputs": [
        {
          "output_type": "execute_result",
          "data": {
            "text/plain": [
              "tensor([0.2737, 0.3189, 0.6497, 0.6191, 0.6617, 0.8573, 0.5016, 0.5373, 0.4988,\n",
              "        0.4935, 0.3746, 0.2720, 0.2299, 0.9461, 0.4888, 0.3515])"
            ]
          },
          "metadata": {
            "tags": []
          },
          "execution_count": 19
        }
      ]
    },
    {
      "cell_type": "code",
      "metadata": {
        "id": "oKXLRCQ-4gw3",
        "colab_type": "code",
        "colab": {}
      },
      "source": [
        "# Converting from numpy to pytorch tensore"
      ],
      "execution_count": 0,
      "outputs": []
    },
    {
      "cell_type": "code",
      "metadata": {
        "id": "01lB9BiV40oK",
        "colab_type": "code",
        "colab": {}
      },
      "source": [
        "import numpy as np"
      ],
      "execution_count": 0,
      "outputs": []
    },
    {
      "cell_type": "code",
      "metadata": {
        "id": "0-nXzaoi41gB",
        "colab_type": "code",
        "outputId": "01f0178e-d592-4bb4-e8c9-3b7289ce4fee",
        "colab": {
          "base_uri": "https://localhost:8080/",
          "height": 35
        }
      },
      "source": [
        "a = torch.ones(5)\n",
        "a"
      ],
      "execution_count": 22,
      "outputs": [
        {
          "output_type": "execute_result",
          "data": {
            "text/plain": [
              "tensor([1., 1., 1., 1., 1.])"
            ]
          },
          "metadata": {
            "tags": []
          },
          "execution_count": 22
        }
      ]
    },
    {
      "cell_type": "code",
      "metadata": {
        "id": "1nSc6j_v45Ma",
        "colab_type": "code",
        "outputId": "a1ce9ae0-4d9b-4ca8-c5de-a797f7e3133a",
        "colab": {
          "base_uri": "https://localhost:8080/",
          "height": 53
        }
      },
      "source": [
        "b = a.numpy() #turninig a into numpy array\n",
        "print(b)\n",
        "print(type(b))"
      ],
      "execution_count": 23,
      "outputs": [
        {
          "output_type": "stream",
          "text": [
            "[1. 1. 1. 1. 1.]\n",
            "<class 'numpy.ndarray'>\n"
          ],
          "name": "stdout"
        }
      ]
    },
    {
      "cell_type": "code",
      "metadata": {
        "id": "meT04kZm49K6",
        "colab_type": "code",
        "outputId": "1ca5a3fb-121d-4dba-aa10-3b00ab51d9e4",
        "colab": {
          "base_uri": "https://localhost:8080/",
          "height": 35
        }
      },
      "source": [
        "a.add_(1)"
      ],
      "execution_count": 24,
      "outputs": [
        {
          "output_type": "execute_result",
          "data": {
            "text/plain": [
              "tensor([2., 2., 2., 2., 2.])"
            ]
          },
          "metadata": {
            "tags": []
          },
          "execution_count": 24
        }
      ]
    },
    {
      "cell_type": "code",
      "metadata": {
        "id": "WLIjsESI5QqC",
        "colab_type": "code",
        "outputId": "e8b652bc-9b4f-4614-f683-837b05e99e6f",
        "colab": {
          "base_uri": "https://localhost:8080/",
          "height": 35
        }
      },
      "source": [
        "print(b) #B has also changed, because they both share same memory on cpu."
      ],
      "execution_count": 25,
      "outputs": [
        {
          "output_type": "stream",
          "text": [
            "[2. 2. 2. 2. 2.]\n"
          ],
          "name": "stdout"
        }
      ]
    },
    {
      "cell_type": "markdown",
      "metadata": {
        "id": "AtLtWoPZ6o09",
        "colab_type": "text"
      },
      "source": [
        "### pytorch will require calculate gradient for this\n"
      ]
    },
    {
      "cell_type": "code",
      "metadata": {
        "id": "JWCsTlY65SMa",
        "colab_type": "code",
        "outputId": "3d25c1b1-6ac6-48ee-ed03-4b28e78633cd",
        "colab": {
          "base_uri": "https://localhost:8080/",
          "height": 35
        }
      },
      "source": [
        "x = torch.ones(5,requires_grad=True) \n",
        "x"
      ],
      "execution_count": 26,
      "outputs": [
        {
          "output_type": "execute_result",
          "data": {
            "text/plain": [
              "tensor([1., 1., 1., 1., 1.], requires_grad=True)"
            ]
          },
          "metadata": {
            "tags": []
          },
          "execution_count": 26
        }
      ]
    },
    {
      "cell_type": "markdown",
      "metadata": {
        "id": "p4H4winR6v4U",
        "colab_type": "text"
      },
      "source": [
        "# Autograd package - Pytorch\n",
        "So how to calculate gradients, and how to use packaged?"
      ]
    },
    {
      "cell_type": "code",
      "metadata": {
        "id": "NWdPrmrt6zmJ",
        "colab_type": "code",
        "outputId": "90949e78-3c92-4a0d-87c5-ed2d04659d2a",
        "colab": {
          "base_uri": "https://localhost:8080/",
          "height": 35
        }
      },
      "source": [
        "x = torch.randn(3, requires_grad=True) #we need to specific requires_grad=True\n",
        "x #we see pytorch tracks it"
      ],
      "execution_count": 27,
      "outputs": [
        {
          "output_type": "execute_result",
          "data": {
            "text/plain": [
              "tensor([-0.8565,  0.3700, -1.4974], requires_grad=True)"
            ]
          },
          "metadata": {
            "tags": []
          },
          "execution_count": 27
        }
      ]
    },
    {
      "cell_type": "code",
      "metadata": {
        "id": "mX_rEFcR641h",
        "colab_type": "code",
        "outputId": "29c0b208-b895-4489-c31d-daddf4ac929e",
        "colab": {
          "base_uri": "https://localhost:8080/",
          "height": 35
        }
      },
      "source": [
        "y = x + 2 #python will create fuction for use, which will later calculate gradient for us\n",
        "y"
      ],
      "execution_count": 28,
      "outputs": [
        {
          "output_type": "execute_result",
          "data": {
            "text/plain": [
              "tensor([1.1435, 2.3700, 0.5026], grad_fn=<AddBackward0>)"
            ]
          },
          "metadata": {
            "tags": []
          },
          "execution_count": 28
        }
      ]
    },
    {
      "cell_type": "code",
      "metadata": {
        "id": "vExaypog7Q1W",
        "colab_type": "code",
        "outputId": "7e96bf75-ee68-4a90-eeaf-12dd05e1149f",
        "colab": {
          "base_uri": "https://localhost:8080/",
          "height": 35
        }
      },
      "source": [
        " z= y*y*2\n",
        " z = z.mean() # if z is not a scalar value, we must give it a vector, otherwise z.backward() wiil not work\n",
        " z"
      ],
      "execution_count": 29,
      "outputs": [
        {
          "output_type": "execute_result",
          "data": {
            "text/plain": [
              "tensor(4.7848, grad_fn=<MeanBackward0>)"
            ]
          },
          "metadata": {
            "tags": []
          },
          "execution_count": 29
        }
      ]
    },
    {
      "cell_type": "code",
      "metadata": {
        "id": "5-wGgZwM7pF6",
        "colab_type": "code",
        "colab": {}
      },
      "source": [
        "#to calcualte gradients all we need to do is\n",
        "z.backward() #dz/dx \n",
        "#if requires_grad=True was not specified on x, this will not work."
      ],
      "execution_count": 0,
      "outputs": []
    },
    {
      "cell_type": "code",
      "metadata": {
        "id": "VHuD9A4J70oy",
        "colab_type": "code",
        "outputId": "01905c7f-fa24-40da-e9da-27ea8a29622d",
        "colab": {
          "base_uri": "https://localhost:8080/",
          "height": 35
        }
      },
      "source": [
        "print(x.grad)"
      ],
      "execution_count": 31,
      "outputs": [
        {
          "output_type": "stream",
          "text": [
            "tensor([1.5247, 3.1600, 0.6702])\n"
          ],
          "name": "stdout"
        }
      ]
    },
    {
      "cell_type": "code",
      "metadata": {
        "id": "roxzL7K9783i",
        "colab_type": "code",
        "outputId": "fd32261a-b8dc-44a5-e4f0-ef332fbe8d1c",
        "colab": {
          "base_uri": "https://localhost:8080/",
          "height": 35
        }
      },
      "source": [
        "x = torch.randn(3, requires_grad=True)\n",
        "x"
      ],
      "execution_count": 32,
      "outputs": [
        {
          "output_type": "execute_result",
          "data": {
            "text/plain": [
              "tensor([ 0.3715,  1.6048, -1.6478], requires_grad=True)"
            ]
          },
          "metadata": {
            "tags": []
          },
          "execution_count": 32
        }
      ]
    },
    {
      "cell_type": "markdown",
      "metadata": {
        "id": "zZitBPuz9uNs",
        "colab_type": "text"
      },
      "source": [
        "3 ways stop Pytorch from creating gradients"
      ]
    },
    {
      "cell_type": "code",
      "metadata": {
        "id": "0MEmMano9di0",
        "colab_type": "code",
        "outputId": "f5b4719c-bbd4-4bc6-9579-85795aad77e9",
        "colab": {
          "base_uri": "https://localhost:8080/",
          "height": 35
        }
      },
      "source": [
        "x.requires_grad_(False) #doesnt require gradient anymore"
      ],
      "execution_count": 33,
      "outputs": [
        {
          "output_type": "execute_result",
          "data": {
            "text/plain": [
              "tensor([ 0.3715,  1.6048, -1.6478])"
            ]
          },
          "metadata": {
            "tags": []
          },
          "execution_count": 33
        }
      ]
    },
    {
      "cell_type": "code",
      "metadata": {
        "id": "xx4-dbqe9awj",
        "colab_type": "code",
        "outputId": "56187fc4-f682-446a-f2fc-366ff7f3a930",
        "colab": {
          "base_uri": "https://localhost:8080/",
          "height": 35
        }
      },
      "source": [
        "y = x.detach() #doesnt require gradient anymore\n",
        "y"
      ],
      "execution_count": 34,
      "outputs": [
        {
          "output_type": "execute_result",
          "data": {
            "text/plain": [
              "tensor([ 0.3715,  1.6048, -1.6478])"
            ]
          },
          "metadata": {
            "tags": []
          },
          "execution_count": 34
        }
      ]
    },
    {
      "cell_type": "code",
      "metadata": {
        "id": "ViT_vrVa9f9B",
        "colab_type": "code",
        "outputId": "ab428dd1-2362-42c2-ebfb-1152246cc8e2",
        "colab": {
          "base_uri": "https://localhost:8080/",
          "height": 35
        }
      },
      "source": [
        "with torch.no_grad(): #doesnt require gradient anymore\n",
        "  y = x + 2\n",
        "y"
      ],
      "execution_count": 35,
      "outputs": [
        {
          "output_type": "execute_result",
          "data": {
            "text/plain": [
              "tensor([2.3715, 3.6048, 0.3522])"
            ]
          },
          "metadata": {
            "tags": []
          },
          "execution_count": 35
        }
      ]
    },
    {
      "cell_type": "code",
      "metadata": {
        "id": "ieRXFyXo9pT5",
        "colab_type": "code",
        "outputId": "117f317f-5f4e-4a4e-a4d9-2910eafca57a",
        "colab": {
          "base_uri": "https://localhost:8080/",
          "height": 71
        }
      },
      "source": [
        "weights = torch.ones(4, requires_grad=True)\n",
        "\n",
        "for epoch in range(3):\n",
        "  model_output = (weights*3).sum()\n",
        "\n",
        "  model_output.backward()\n",
        "\n",
        "  print(weights.grad)\n",
        "\n",
        "  weights.grad.zero_() #we must do this to reset the gradients, otherwise they will keep adding"
      ],
      "execution_count": 36,
      "outputs": [
        {
          "output_type": "stream",
          "text": [
            "tensor([3., 3., 3., 3.])\n",
            "tensor([3., 3., 3., 3.])\n",
            "tensor([3., 3., 3., 3.])\n"
          ],
          "name": "stdout"
        }
      ]
    },
    {
      "cell_type": "code",
      "metadata": {
        "id": "xjaZDA5a-LMp",
        "colab_type": "code",
        "outputId": "468bc538-79b9-4b02-b238-8bee48b63de9",
        "colab": {
          "base_uri": "https://localhost:8080/",
          "height": 358
        }
      },
      "source": [
        "optimizer = torch.optim.SGD(weights, lr=0.01)\n",
        "optimizer.step()\n",
        "optimizer.zero_grad() #same here, we must always reset gradients"
      ],
      "execution_count": 37,
      "outputs": [
        {
          "output_type": "error",
          "ename": "TypeError",
          "evalue": "ignored",
          "traceback": [
            "\u001b[0;31m---------------------------------------------------------------------------\u001b[0m",
            "\u001b[0;31mTypeError\u001b[0m                                 Traceback (most recent call last)",
            "\u001b[0;32m<ipython-input-37-c0318bdaf409>\u001b[0m in \u001b[0;36m<module>\u001b[0;34m()\u001b[0m\n\u001b[0;32m----> 1\u001b[0;31m \u001b[0moptimizer\u001b[0m \u001b[0;34m=\u001b[0m \u001b[0mtorch\u001b[0m\u001b[0;34m.\u001b[0m\u001b[0moptim\u001b[0m\u001b[0;34m.\u001b[0m\u001b[0mSGD\u001b[0m\u001b[0;34m(\u001b[0m\u001b[0mweights\u001b[0m\u001b[0;34m,\u001b[0m \u001b[0mlr\u001b[0m\u001b[0;34m=\u001b[0m\u001b[0;36m0.01\u001b[0m\u001b[0;34m)\u001b[0m\u001b[0;34m\u001b[0m\u001b[0;34m\u001b[0m\u001b[0m\n\u001b[0m\u001b[1;32m      2\u001b[0m \u001b[0moptimizer\u001b[0m\u001b[0;34m.\u001b[0m\u001b[0mstep\u001b[0m\u001b[0;34m(\u001b[0m\u001b[0;34m)\u001b[0m\u001b[0;34m\u001b[0m\u001b[0;34m\u001b[0m\u001b[0m\n\u001b[1;32m      3\u001b[0m \u001b[0moptimizer\u001b[0m\u001b[0;34m.\u001b[0m\u001b[0mzero_grad\u001b[0m\u001b[0;34m(\u001b[0m\u001b[0;34m)\u001b[0m \u001b[0;31m#same here, we must always reset gradients\u001b[0m\u001b[0;34m\u001b[0m\u001b[0;34m\u001b[0m\u001b[0m\n",
            "\u001b[0;32m/usr/local/lib/python3.6/dist-packages/torch/optim/sgd.py\u001b[0m in \u001b[0;36m__init__\u001b[0;34m(self, params, lr, momentum, dampening, weight_decay, nesterov)\u001b[0m\n\u001b[1;32m     62\u001b[0m         \u001b[0;32mif\u001b[0m \u001b[0mnesterov\u001b[0m \u001b[0;32mand\u001b[0m \u001b[0;34m(\u001b[0m\u001b[0mmomentum\u001b[0m \u001b[0;34m<=\u001b[0m \u001b[0;36m0\u001b[0m \u001b[0;32mor\u001b[0m \u001b[0mdampening\u001b[0m \u001b[0;34m!=\u001b[0m \u001b[0;36m0\u001b[0m\u001b[0;34m)\u001b[0m\u001b[0;34m:\u001b[0m\u001b[0;34m\u001b[0m\u001b[0;34m\u001b[0m\u001b[0m\n\u001b[1;32m     63\u001b[0m             \u001b[0;32mraise\u001b[0m \u001b[0mValueError\u001b[0m\u001b[0;34m(\u001b[0m\u001b[0;34m\"Nesterov momentum requires a momentum and zero dampening\"\u001b[0m\u001b[0;34m)\u001b[0m\u001b[0;34m\u001b[0m\u001b[0;34m\u001b[0m\u001b[0m\n\u001b[0;32m---> 64\u001b[0;31m         \u001b[0msuper\u001b[0m\u001b[0;34m(\u001b[0m\u001b[0mSGD\u001b[0m\u001b[0;34m,\u001b[0m \u001b[0mself\u001b[0m\u001b[0;34m)\u001b[0m\u001b[0;34m.\u001b[0m\u001b[0m__init__\u001b[0m\u001b[0;34m(\u001b[0m\u001b[0mparams\u001b[0m\u001b[0;34m,\u001b[0m \u001b[0mdefaults\u001b[0m\u001b[0;34m)\u001b[0m\u001b[0;34m\u001b[0m\u001b[0;34m\u001b[0m\u001b[0m\n\u001b[0m\u001b[1;32m     65\u001b[0m \u001b[0;34m\u001b[0m\u001b[0m\n\u001b[1;32m     66\u001b[0m     \u001b[0;32mdef\u001b[0m \u001b[0m__setstate__\u001b[0m\u001b[0;34m(\u001b[0m\u001b[0mself\u001b[0m\u001b[0;34m,\u001b[0m \u001b[0mstate\u001b[0m\u001b[0;34m)\u001b[0m\u001b[0;34m:\u001b[0m\u001b[0;34m\u001b[0m\u001b[0;34m\u001b[0m\u001b[0m\n",
            "\u001b[0;32m/usr/local/lib/python3.6/dist-packages/torch/optim/optimizer.py\u001b[0m in \u001b[0;36m__init__\u001b[0;34m(self, params, defaults)\u001b[0m\n\u001b[1;32m     37\u001b[0m             raise TypeError(\"params argument given to the optimizer should be \"\n\u001b[1;32m     38\u001b[0m                             \u001b[0;34m\"an iterable of Tensors or dicts, but got \"\u001b[0m \u001b[0;34m+\u001b[0m\u001b[0;34m\u001b[0m\u001b[0;34m\u001b[0m\u001b[0m\n\u001b[0;32m---> 39\u001b[0;31m                             torch.typename(params))\n\u001b[0m\u001b[1;32m     40\u001b[0m \u001b[0;34m\u001b[0m\u001b[0m\n\u001b[1;32m     41\u001b[0m         \u001b[0mself\u001b[0m\u001b[0;34m.\u001b[0m\u001b[0mstate\u001b[0m \u001b[0;34m=\u001b[0m \u001b[0mdefaultdict\u001b[0m\u001b[0;34m(\u001b[0m\u001b[0mdict\u001b[0m\u001b[0;34m)\u001b[0m\u001b[0;34m\u001b[0m\u001b[0;34m\u001b[0m\u001b[0m\n",
            "\u001b[0;31mTypeError\u001b[0m: params argument given to the optimizer should be an iterable of Tensors or dicts, but got torch.FloatTensor"
          ]
        }
      ]
    },
    {
      "cell_type": "markdown",
      "metadata": {
        "id": "putM5ukp-7_t",
        "colab_type": "text"
      },
      "source": [
        "# Backpropagation\n",
        "And how to calculate gradients with it in Pytorch.\n",
        "1) forwardpass\n",
        "2)\n",
        "3) backwardpass"
      ]
    },
    {
      "cell_type": "code",
      "metadata": {
        "id": "vFzi3B30-_eh",
        "colab_type": "code",
        "colab": {}
      },
      "source": [
        "x = torch.tensor(1.0)\n",
        "y = torch.tensor(2.0)\n",
        "\n",
        "w = torch.tensor(1.0, requires_grad=True)"
      ],
      "execution_count": 0,
      "outputs": []
    },
    {
      "cell_type": "code",
      "metadata": {
        "id": "P1IHGNkeE74a",
        "colab_type": "code",
        "colab": {}
      },
      "source": [
        "#forward pass\n",
        "y_hat = w * x\n",
        "loss = (y_hat - y)**2\n",
        "loss"
      ],
      "execution_count": 0,
      "outputs": []
    },
    {
      "cell_type": "code",
      "metadata": {
        "id": "MhetIBMSFGxh",
        "colab_type": "code",
        "colab": {}
      },
      "source": [
        "#backward pass\n",
        "loss.backward()\n",
        "w.grad"
      ],
      "execution_count": 0,
      "outputs": []
    },
    {
      "cell_type": "markdown",
      "metadata": {
        "id": "1zgroZKQFbfS",
        "colab_type": "text"
      },
      "source": [
        "Further steps would be\n",
        "1. update weights\n",
        "2. Continue with next forward and backwards passes\n",
        "\n",
        "That's how easy it is to calculate backprop in Pytorch"
      ]
    },
    {
      "cell_type": "markdown",
      "metadata": {
        "id": "y016xMNsFp3L",
        "colab_type": "text"
      },
      "source": [
        "# Gradient Descent with Autograd and Backpropagation\n",
        "Automatic grad from pytorch, how it solves quicker stuff for us. \n",
        "\n",
        "First we will do manually, but then we will do it automatically with Pytorch"
      ]
    },
    {
      "cell_type": "code",
      "metadata": {
        "id": "i5Yh8qaUFupd",
        "colab_type": "code",
        "colab": {}
      },
      "source": [
        "#from scratch\n",
        "#f = w * x\n",
        "f = 2 * x\n",
        "\n",
        "X = np.array([1,2,3,4],dtype=np.float32)\n",
        "Y = np.array([2,4,6,8],dtype=np.float32)\n",
        "\n",
        "w = 0.0"
      ],
      "execution_count": 0,
      "outputs": []
    },
    {
      "cell_type": "code",
      "metadata": {
        "id": "bQrc-mYcF_ZZ",
        "colab_type": "code",
        "colab": {}
      },
      "source": [
        "# model prediction\n",
        "def forward(x):\n",
        "  return w * x\n",
        "\n",
        "# loss = MSE, in case of linear regression\n",
        "def loss(y,y_predicted):\n",
        "  return ((y_predicted-y)**2).mean()\n",
        "\n",
        "# gradients\n",
        "# MSE = 1/N * (w*x - y)**2\n",
        "# dJ/dw = 1/N 2x (w*x-y)\n",
        "def gradient(x,y,y_predicted):\n",
        "  return np.dot(2*x, y_predicted -y).mean()"
      ],
      "execution_count": 0,
      "outputs": []
    },
    {
      "cell_type": "code",
      "metadata": {
        "id": "dNd6xXhYHeiR",
        "colab_type": "code",
        "colab": {}
      },
      "source": [
        "print(f'Prediction before traininig: f(5) = {forward(5):.3f}')\n",
        "\n",
        "# Traininig \n",
        "learninig_rate = 0.01\n",
        "n_iters = 20\n",
        "\n",
        "for epoch in range(n_iters):\n",
        "  #Prediction = forward pass\n",
        "  y_pred = forward(X)\n",
        "  \n",
        "  # Loss\n",
        "  l = loss(Y,y_pred)\n",
        "\n",
        "  # Gradients\n",
        "  dw = gradient(X,Y,y_pred)\n",
        "\n",
        "  #update weights\n",
        "  w -= learninig_rate * dw\n",
        "\n",
        "  if epoch % 1 == 0:\n",
        "    print(f'epoch {epoch+1}: w = {w:3f}, loss = {l:.8f}')\n",
        "\n",
        "print(f'Prediction after traininig: f(5) = {forward(5):.3f}')"
      ],
      "execution_count": 0,
      "outputs": []
    },
    {
      "cell_type": "markdown",
      "metadata": {
        "id": "dJU7c4SLI6rm",
        "colab_type": "text"
      },
      "source": [
        "Example below using Pytorch premade packages."
      ]
    },
    {
      "cell_type": "code",
      "metadata": {
        "id": "DAmva1MBM2Cx",
        "colab_type": "code",
        "colab": {}
      },
      "source": [
        "X = torch.tensor([1,2,3,4],dtype=torch.float32)\n",
        "Y = torch.tensor([2,4,6,8],dtype=torch.float32)\n",
        "\n",
        "w = torch.tensor(0.0,dtype=torch.float32, requires_grad=True)\n",
        "\n",
        "# model prediction - Same\n",
        "def forward(x):\n",
        "  return w * x\n",
        "\n",
        "# loss = MSE, in case of linear regression - Same\n",
        "def loss(y,y_predicted):\n",
        "  return ((y_predicted-y)**2).mean()\n",
        "\n",
        "\n",
        "\n",
        "print(f'Prediction before traininig: f(5) = {forward(5):.3f}')\n",
        "\n",
        "# Traininig \n",
        "learninig_rate = 0.01\n",
        "n_iters = 100\n",
        "\n",
        "for epoch in range(n_iters):\n",
        "  #Prediction = forward pass\n",
        "  y_pred = forward(X)\n",
        "  \n",
        "  # Loss\n",
        "  l = loss(Y,y_pred)\n",
        "\n",
        "  # Gradients = backward pass\n",
        "  l.backward() # dl/dx gradient of loss - pytorch does everything\n",
        "\n",
        "\n",
        "  #update weights\n",
        "  with torch.no_grad():\n",
        "    w -= learninig_rate * w.grad\n",
        "\n",
        "  # zero gradients, because when we acll backward() will accumulate gradients\n",
        "  w.grad.zero_() #_ modifies inplace\n",
        "\n",
        "  if epoch % 10 == 0:\n",
        "    print(f'epoch {epoch+1}: w = {w:3f}, loss = {l:.8f}')\n",
        "\n",
        "print(f'Prediction after traininig: f(5) = {forward(5):.3f}')"
      ],
      "execution_count": 0,
      "outputs": []
    },
    {
      "cell_type": "markdown",
      "metadata": {
        "id": "uvC8mp-wv7ZI",
        "colab_type": "text"
      },
      "source": [
        "# Training Pipeline: Model, Loss, and Optimizer\n",
        "Now we will replace all manual places with Pyroch automation."
      ]
    },
    {
      "cell_type": "markdown",
      "metadata": {
        "id": "b7NbUbb20btF",
        "colab_type": "text"
      },
      "source": [
        "Typical pytorch pipline consists of 3 steps:\n",
        "\n",
        "\n",
        "\n",
        "1.   Design model (input & output size, forward pass)\n",
        "2.   Construct loss & optimizer\n",
        "3.   Traininig loop\n",
        "  *   Forward pass: compute prediction\n",
        "  *   Backward pass: gradients\n",
        "  *   update weights (iterate until we're done)"
      ]
    },
    {
      "cell_type": "code",
      "metadata": {
        "id": "EVh3IwSiwYUi",
        "colab_type": "code",
        "colab": {}
      },
      "source": [
        "import torch.nn as nn "
      ],
      "execution_count": 0,
      "outputs": []
    },
    {
      "cell_type": "markdown",
      "metadata": {
        "id": "OL7-nr1vxMp-",
        "colab_type": "text"
      },
      "source": [
        "#### Replacing loss with pytorch"
      ]
    },
    {
      "cell_type": "code",
      "metadata": {
        "id": "Ew1T89swwdRP",
        "colab_type": "code",
        "colab": {}
      },
      "source": [
        "X = torch.tensor([1,2,3,4],dtype=torch.float32)\n",
        "Y = torch.tensor([2,4,6,8],dtype=torch.float32)\n",
        "\n",
        "w = torch.tensor(0.0,dtype=torch.float32, requires_grad=True)\n",
        "\n",
        "# model prediction - Same\n",
        "def forward(x):\n",
        "  return w * x\n",
        "\n",
        "\n",
        "print(f'Prediction before traininig: f(5) = {forward(5):.3f}')\n",
        "\n",
        "# Traininig \n",
        "learninig_rate = 0.01\n",
        "n_iters = 100\n",
        "\n",
        "loss = nn.MSELoss() #mean squared error\n",
        "optimizer = torch.optim.SGD([w],lr=learninig_rate) #needs some params, weights, lr\n",
        "\n",
        "for epoch in range(n_iters):\n",
        "  #Prediction = forward pass\n",
        "  y_pred = forward(X)\n",
        "  \n",
        "  # Loss\n",
        "  l = loss(Y,y_pred)\n",
        "\n",
        "  # Gradients = backward pass\n",
        "  l.backward() # dl/dx gradient of loss - pytorch does everything\n",
        "\n",
        "\n",
        "  #Optimization done automatically via pytorch\n",
        "  optimizer.step()\n",
        "\n",
        "  # We still ned to zero gradiens\n",
        "  optimizer.zero_grad() #_ modifies inplace\n",
        "\n",
        "  if epoch % 10 == 0:\n",
        "    print(f'epoch {epoch+1}: w = {w:3f}, loss = {l:.8f}')\n",
        "\n",
        "print(f'Prediction after traininig: f(5) = {forward(5):.3f}')"
      ],
      "execution_count": 0,
      "outputs": []
    },
    {
      "cell_type": "markdown",
      "metadata": {
        "id": "EvJTAKzrxa23",
        "colab_type": "text"
      },
      "source": [
        "#### Replacing forward with Pytorch"
      ]
    },
    {
      "cell_type": "code",
      "metadata": {
        "id": "36QBXKvIxTGw",
        "colab_type": "code",
        "colab": {}
      },
      "source": [
        "X = torch.tensor([[1],[2],[3],[4]],dtype=torch.float32) #new shape\n",
        "Y = torch.tensor([[2],[4],[6],[8]],dtype=torch.float32)\n",
        "\n",
        "n_samples, n_features = X.shape #(4,1)\n",
        "#don't need to specify weights anymore, just model\n",
        "\n",
        "X_test = torch.tensor([5],dtype=torch.float32) #model needs a tensor to be inputed, so we create one\n",
        "\n",
        "input_size = n_features #1\n",
        "output_size = n_features #1\n",
        "\n",
        "model = nn.Linear(input_size, output_size) #needs input size and output size, but X and Y need to be modified a little for shapes\n",
        "\n",
        "print(f'Prediction before traininig: f(5) = {model(X_test).item():.3f}') #same 5 value but as tensor inputed.\n",
        "\n",
        "# Traininig \n",
        "learninig_rate = 0.03\n",
        "n_iters = 8\n",
        "\n",
        "loss = nn.MSELoss() #mean squared error\n",
        "optimizer = torch.optim.SGD(model.parameters(), lr=learninig_rate) #updated optimizer\n",
        "\n",
        "for epoch in range(n_iters):\n",
        "  #Prediction = forward pass\n",
        "  y_pred = model(X)\n",
        "  \n",
        "  # Loss\n",
        "  l = loss(Y,y_pred)\n",
        "\n",
        "  # Gradients = backward pass\n",
        "  l.backward() # dl/dx gradient of loss - pytorch does everything\n",
        "\n",
        "\n",
        "  #Optimization done automatically via pytorch\n",
        "  optimizer.step()\n",
        "\n",
        "  # We still ned to zero gradiens\n",
        "  optimizer.zero_grad() #_ modifies inplace\n",
        "\n",
        "  if epoch % 1 == 0:\n",
        "    [w,b]=model.parameters()\n",
        "    print(f'epoch {epoch+1}: w = {w[0][0].item():3f}, loss = {l:.8f}') #.item() is called to return number, not a tensor.\n",
        "\n",
        "print(f'Prediction after traininig: f(5) = {model(X_test).item():.3f}')"
      ],
      "execution_count": 0,
      "outputs": []
    },
    {
      "cell_type": "markdown",
      "metadata": {
        "id": "NE_ieoa-zXxI",
        "colab_type": "text"
      },
      "source": [
        "# What if we need more than 2 layers model?\n",
        "Custom model"
      ]
    },
    {
      "cell_type": "code",
      "metadata": {
        "id": "Gk5hXuaSyEHD",
        "colab_type": "code",
        "colab": {}
      },
      "source": [
        "X = torch.tensor([[1],[2],[3],[4]],dtype=torch.float32) #new shape\n",
        "Y = torch.tensor([[2],[4],[6],[8]],dtype=torch.float32)\n",
        "\n",
        "n_samples, n_features = X.shape #(4,1)\n",
        "#don't need to specify weights anymore, just model\n",
        "\n",
        "X_test = torch.tensor([5],dtype=torch.float32) #model needs a tensor to be inputed, so we create one\n",
        "\n",
        "input_size = n_features #1\n",
        "output_size = n_features #1\n",
        "\n",
        "#model = nn.Linear(input_size, output_size) #needs input size and output size, but X and Y need to be modified a little for shapes\n",
        "\n",
        "#custom - this is how you design model\n",
        "class LinearRegression(nn.Module):\n",
        "  def __init__(self,input_dim, output_dim):\n",
        "    super(LinearRegression, self).__init__()\n",
        "    #define layers\n",
        "    self.lin = nn.Linear(input_dim, output_dim)\n",
        "\n",
        "  def forward(self,x):\n",
        "    return self.lin(x)\n",
        "\n",
        "model = LinearRegression(input_size,output_size)\n",
        "\n",
        "print(f'Prediction before traininig: f(5) = {model(X_test).item():.3f}') #same 5 value but as tensor inputed.\n",
        "\n",
        "# Traininig \n",
        "learninig_rate = 0.03\n",
        "n_iters = 8\n",
        "\n",
        "loss = nn.MSELoss() #mean squared error\n",
        "optimizer = torch.optim.SGD(model.parameters(), lr=learninig_rate) #updated optimizer\n",
        "\n",
        "for epoch in range(n_iters):\n",
        "  #Prediction = forward pass\n",
        "  y_pred = model(X)\n",
        "  \n",
        "  # Loss\n",
        "  l = loss(Y,y_pred)\n",
        "\n",
        "  # Gradients = backward pass\n",
        "  l.backward() # dl/dx gradient of loss - pytorch does everything\n",
        "\n",
        "\n",
        "  #Optimization done automatically via pytorch\n",
        "  optimizer.step()\n",
        "\n",
        "  # We still ned to zero gradiens\n",
        "  optimizer.zero_grad() #_ modifies inplace\n",
        "\n",
        "  if epoch % 1 == 0:\n",
        "    [w,b]=model.parameters()\n",
        "    print(f'epoch {epoch+1}: w = {w[0][0].item():3f}, loss = {l:.8f}') #.item() is called to return number, not a tensor.\n",
        "\n",
        "print(f'Prediction after traininig: f(5) = {model(X_test).item():.3f}')"
      ],
      "execution_count": 0,
      "outputs": []
    },
    {
      "cell_type": "markdown",
      "metadata": {
        "id": "UsCC7ltiz9x1",
        "colab_type": "text"
      },
      "source": [
        "#### Pytorch can do most of the work for use\n",
        "- We need to design model\n",
        "- Know which loss & optimizer to use\n",
        "- dont have to worry about underlying algorithms"
      ]
    },
    {
      "cell_type": "markdown",
      "metadata": {
        "id": "59BGVKRSz9cu",
        "colab_type": "text"
      },
      "source": [
        "# Linear Regression\n",
        "Repetition of learned concetps, and quickly implement algorithm, typical pytorch pipline consists of 3 steps:\n",
        "\n",
        "1.   Design model (input & output size, forward pass)\n",
        "2.   Construct loss & optimizer\n",
        "3.   Traininig loop\n",
        "  *   Forward pass: compute prediction\n",
        "  *   Backward pass: gradients\n",
        "  *   update weights (iterate until we're done)"
      ]
    },
    {
      "cell_type": "code",
      "metadata": {
        "id": "onwcwu5M0UiA",
        "colab_type": "code",
        "colab": {}
      },
      "source": [
        "#import torch\n",
        "#import torch.nn as nn\n",
        "#import numpty as np\n",
        "from sklearn import datasets \n",
        "import matplotlib.pyplot as plt"
      ],
      "execution_count": 0,
      "outputs": []
    },
    {
      "cell_type": "code",
      "metadata": {
        "id": "DVKIkJKX1bCw",
        "colab_type": "code",
        "colab": {}
      },
      "source": [
        "# Step 0 - Prepare data\n",
        "X_numpy,y_numpy = datasets.make_regression(n_samples=100, n_features=1, noise=20, random_state=1)\n",
        "\n",
        "X = torch.from_numpy(X_numpy.astype(np.float32))\n",
        "y = torch.from_numpy(y_numpy.astype(np.float32))\n",
        "y = y.view(y.shape[0], 1) #reshaping y from row to column\n",
        "\n",
        "n_samples, n_features = X.shape"
      ],
      "execution_count": 0,
      "outputs": []
    },
    {
      "cell_type": "code",
      "metadata": {
        "id": "xmGC_H0f1T-8",
        "colab_type": "code",
        "colab": {}
      },
      "source": [
        "# Step 1 - Model\n",
        "input_size = n_features\n",
        "output_size = 1\n",
        "\n",
        "model = nn.Linear(input_size,output_size)"
      ],
      "execution_count": 0,
      "outputs": []
    },
    {
      "cell_type": "code",
      "metadata": {
        "id": "2KRaTV_01WLC",
        "colab_type": "code",
        "colab": {}
      },
      "source": [
        "# Step 2 - Loss and optimizer\n",
        "learninig_rate=0.01\n",
        "\n",
        "criterion = nn.MSELoss() #Mean squared error los\n",
        "optimizer = torch.optim.SGD(model.parameters(), lr=learninig_rate) #input params and lr"
      ],
      "execution_count": 0,
      "outputs": []
    },
    {
      "cell_type": "code",
      "metadata": {
        "id": "ehI3qMgZ1Y4K",
        "colab_type": "code",
        "colab": {}
      },
      "source": [
        "# Step 3 - traininig loop\n",
        "num_epochs = 100\n",
        "\n",
        "for epoch in range(num_epochs):\n",
        "  #forward pass and loss\n",
        "  y_predicted = model(X)\n",
        "  loss = criterion(y_predicted, y)\n",
        "\n",
        "  #backward pass\n",
        "  loss.backward()\n",
        " \n",
        "  #update\n",
        "  optimizer.step()\n",
        "  optimizer.zero_grad() #to reset gradients\n",
        "\n",
        "  if (epoch+1) % 10 == 0:\n",
        "    print(f'epoch:{epoch+1}, loss={loss.item():.4f}')\n"
      ],
      "execution_count": 0,
      "outputs": []
    },
    {
      "cell_type": "code",
      "metadata": {
        "id": "rTv_i8Jg3c9Y",
        "colab_type": "code",
        "colab": {}
      },
      "source": [
        "#plotting \n",
        "predicted = model(X).detach().numpy() #prevent from being tracked from computational graph, and convert into numpy\n",
        "\n",
        "plt.plot(X_numpy, y_numpy, 'ro')\n",
        "plt.plot(X_numpy, predicted, 'b')\n",
        "plt.show()\n"
      ],
      "execution_count": 0,
      "outputs": []
    },
    {
      "cell_type": "markdown",
      "metadata": {
        "id": "y9ZoHFWL5fP9",
        "colab_type": "text"
      },
      "source": [
        "# Logistic Regression implementation\n",
        "\n",
        "Same 3 steps as usual, with minor changes:\n",
        "1.   Design model (input & output size, forward pass)\n",
        "2.   Construct loss & optimizer\n",
        "3.   Traininig loop\n",
        "  *   Forward pass: compute prediction\n",
        "  *   Backward pass: gradients\n",
        "  *   update weights (iterate until we're done)"
      ]
    },
    {
      "cell_type": "code",
      "metadata": {
        "id": "X9SstqKf5f5S",
        "colab_type": "code",
        "colab": {}
      },
      "source": [
        "import torch\n",
        "import torch.nn as nn\n",
        "import numpy as np\n",
        "from sklearn import datasets\n",
        "from sklearn.preprocessing import StandardScaler\n",
        "from sklearn.model_selection import train_test_split"
      ],
      "execution_count": 0,
      "outputs": []
    },
    {
      "cell_type": "code",
      "metadata": {
        "id": "XVrw05ba58du",
        "colab_type": "code",
        "colab": {}
      },
      "source": [
        "#0 Prepare data\n",
        "\n",
        "bc = datasets.load_breast_cancer()\n",
        "X,y = bc.data, bc.target\n",
        "\n",
        "n_samples, n_features = X.shape\n",
        "#print(n_samples, n_features) 569 30\n",
        "\n",
        "X_train, X_test, y_train, y_test = train_test_split(X,y, test_size=0.2, random_state=1)\n",
        "\n",
        "#scale features\n",
        "sc = StandardScaler() #zero mean and variance - good for logistic regression\n",
        "X_train = sc.fit_transform(X_train)\n",
        "X_test = sc.transform(X_test)\n",
        "\n",
        "#convert to torch tensors\n",
        "X_train = torch.from_numpy(X_train.astype(np.float32))\n",
        "X_test = torch.from_numpy(X_test.astype(np.float32))\n",
        "y_train = torch.from_numpy(y_train.astype(np.float32))\n",
        "y_test = torch.from_numpy(y_test.astype(np.float32))\n",
        "\n",
        "\n",
        "#reshape y tensors\n",
        "y_train = y_train.view(y_train.shape[0],1) #pytorch premade to reshape y values, making 1 coloumn vector\n",
        "y_test = y_test.view(y_test.shape[0],1)\n"
      ],
      "execution_count": 0,
      "outputs": []
    },
    {
      "cell_type": "code",
      "metadata": {
        "id": "jDFK8sn052uw",
        "colab_type": "code",
        "colab": {}
      },
      "source": [
        "#1 Model\n",
        "# f = wx + b, sigmoid function at the end\n",
        "\n",
        "class LogisticRegression(nn.Module):\n",
        "  def __init__(self, n_input_features):\n",
        "    super(LogisticRegression, self).__init__()\n",
        "    self.linear = nn.Linear(n_input_features, 1)\n",
        "  \n",
        "  def forward(self,x):\n",
        "    y_predicted = torch.sigmoid(self.linear(x))\n",
        "    return y_predicted\n",
        "\n",
        "\n",
        "model = LogisticRegression(n_features)"
      ],
      "execution_count": 0,
      "outputs": []
    },
    {
      "cell_type": "code",
      "metadata": {
        "id": "IxygTp8k54Kq",
        "colab_type": "code",
        "colab": {}
      },
      "source": [
        "#2 Loss and optimizer\n",
        "learninig_rate = 0.01\n",
        "cirterionn = nn.BCELoss() #binary cross entropy loss\n",
        "optimizer = torch.optim.Adam(model.parameters(), lr=learninig_rate) #adam performed better than SGD"
      ],
      "execution_count": 0,
      "outputs": []
    },
    {
      "cell_type": "code",
      "metadata": {
        "id": "-l66A9Lx56pq",
        "colab_type": "code",
        "colab": {}
      },
      "source": [
        "#3 Training loop\n",
        "num_epochs = 150\n",
        "\n",
        "for epoch in range(num_epochs):\n",
        "  #forward pass\n",
        "  y_predicted = model(X_train)\n",
        "  loss = criterion(y_predicted, y_train)\n",
        "  \n",
        "  #backward pass\n",
        "  loss.backward()\n",
        "  \n",
        "  #update weights\n",
        "  optimizer.step()\n",
        "\n",
        "  #zero gradients\n",
        "  optimizer.zero_grad()\n",
        "\n",
        "  #print some information\n",
        "  if (epoch+1) % 10 == 0:\n",
        "    print(f'Epoch: {epoch+1}, loss = {loss.item():.4f}')"
      ],
      "execution_count": 0,
      "outputs": []
    },
    {
      "cell_type": "code",
      "metadata": {
        "id": "gJ9_BNXE573a",
        "colab_type": "code",
        "colab": {}
      },
      "source": [
        "#Evaluate model\n",
        "with torch.no_grad():\n",
        "  y_predicted = model(X_test)\n",
        "\n",
        "  #if y_predicted > 0.5, we say it's 1, if less we say it's 0\n",
        "  y_predicted_cls = y_predicted.round() #will round to nearest integer\n",
        "\n",
        "  #accuracy\n",
        "  acc = y_predicted_cls.eq(y_test).sum()/float(y_test.shape[0])\n",
        "  print(f'Accuracy = {acc:.4f}')"
      ],
      "execution_count": 0,
      "outputs": []
    },
    {
      "cell_type": "markdown",
      "metadata": {
        "id": "3bVNRmeaAyo4",
        "colab_type": "text"
      },
      "source": [
        "# Pytorch Dataset and DataLoader - Batch Training\n",
        "\n",
        "it's faster and wiser to do iterations and update weights in batches, rather than in a whole dataset."
      ]
    },
    {
      "cell_type": "code",
      "metadata": {
        "id": "Ry53_HrFAz9R",
        "colab_type": "code",
        "colab": {}
      },
      "source": [
        "'''\n",
        "epoch = 1 forward and backward pass of ALL training samples\n",
        "\n",
        "batch_size = number of traininig samples in one forward and backward pass\n",
        "\n",
        "number of iterations = number of passes, each pass uses [batch_size] number of samples\n",
        "e.g. 100 samples, batch_size=20 ---> 100/20 = 5 iterations for 1 epoch\n",
        "'''"
      ],
      "execution_count": 0,
      "outputs": []
    },
    {
      "cell_type": "code",
      "metadata": {
        "id": "1yzcu-tNBejx",
        "colab_type": "code",
        "colab": {}
      },
      "source": [
        "import torch\n",
        "import torchvision\n",
        "from torch.utils.data import DataLoader, Dataset\n",
        "import numpy as np\n",
        "import math"
      ],
      "execution_count": 0,
      "outputs": []
    },
    {
      "cell_type": "code",
      "metadata": {
        "id": "cGq5iosBBqCR",
        "colab_type": "code",
        "colab": {}
      },
      "source": [
        "#getting dataset\n",
        "\n",
        "class WineDatatset(Dataset):\n",
        "  def __init__(self):\n",
        "    #data loading\n",
        "    xy = np.loadtxt('./wine.csv', delimiter=\",\", dtype=np.float32, skiprows=1)\n",
        "    self.x = torch.from_numpy(xy[:,1:])\n",
        "    self.y = torch.from_numpy(xy[:,[0]]) # n_samples, 1 \n",
        "    self.n_samples = xy.shape[0]\n",
        "\n",
        "  def __getitem__(self,index):\n",
        "    return self.x[index], self.y[index]\n",
        "\n",
        "  def __len__(self):\n",
        "    return self.n_samples\n",
        "\n",
        "dataset = WineDatatset()"
      ],
      "execution_count": 0,
      "outputs": []
    },
    {
      "cell_type": "code",
      "metadata": {
        "id": "eEWMUIH7C5Hb",
        "colab_type": "code",
        "colab": {}
      },
      "source": [
        "first_data = dataset[0]\n",
        "features, labels = first_data\n",
        "print(features,labels)"
      ],
      "execution_count": 0,
      "outputs": []
    },
    {
      "cell_type": "code",
      "metadata": {
        "id": "ZUXnyl8tDfWi",
        "colab_type": "code",
        "colab": {}
      },
      "source": [
        "#Dataloader - Pytorch\n",
        "\n",
        "dataloader = DataLoader(dataset=dataset, batch_size=4, shuffle=True, num_workers=2)"
      ],
      "execution_count": 0,
      "outputs": []
    },
    {
      "cell_type": "code",
      "metadata": {
        "id": "rFZz_J7JDyiW",
        "colab_type": "code",
        "colab": {}
      },
      "source": [
        "dataiter = iter(dataloader)\n",
        "data = dataiter.next()\n",
        "features,labels = data\n",
        "print(features,labels) #we see 4, since batch size is 4"
      ],
      "execution_count": 0,
      "outputs": []
    },
    {
      "cell_type": "code",
      "metadata": {
        "id": "ayfVCj7ZEJdx",
        "colab_type": "code",
        "colab": {}
      },
      "source": [
        "# traininig loop\n",
        "num_epochs = 2\n",
        "total_samples = len(dataset)\n",
        "n_iterations = math.ceil(total_samples/4)\n",
        "print(total_samples, n_iterations)"
      ],
      "execution_count": 0,
      "outputs": []
    },
    {
      "cell_type": "code",
      "metadata": {
        "id": "d6hWQtNAEnDT",
        "colab_type": "code",
        "colab": {}
      },
      "source": [
        "for epoch in range(num_epochs):\n",
        "  for index, (inputs,labels) in enumerate(dataloader):\n",
        "    # forward\n",
        "\n",
        "    # backward\n",
        "    \n",
        "    #update weights + zero gradients\n",
        "    if (index+1)%5 ==0:\n",
        "      print(f'epoch {epoch+1}/{num_epochs},step {index+1}/{n_iterations},inputs{inputs.shape}')"
      ],
      "execution_count": 0,
      "outputs": []
    },
    {
      "cell_type": "code",
      "metadata": {
        "id": "ffPpsPUiFHtL",
        "colab_type": "code",
        "colab": {}
      },
      "source": [
        "#python has some builtin datasets - torchvision.datasets.MNIST()\n"
      ],
      "execution_count": 0,
      "outputs": []
    },
    {
      "cell_type": "markdown",
      "metadata": {
        "id": "KQoPZ-4qLQ8_",
        "colab_type": "text"
      },
      "source": [
        "# Dataset Transforms\n",
        "All available transforms are found here: https://pytorch.org/docs/stable/torchvision/transforms.html\n",
        "\n",
        "e.g. On images\n",
        "______________\n",
        "CenterCrop, Grayscale, Pad, RandomAffine, RandomCrop, RandomHorizontalFlip, RandomRotation, Resize, Scale\n",
        "\n",
        "On Tensors\n",
        "______________\n",
        "LinearTransformation, Normalize, RandomErasing... etc\n",
        "\n",
        "\n",
        "even multiple transfrorms or custom transforms are possible..."
      ]
    },
    {
      "cell_type": "code",
      "metadata": {
        "id": "26y605ZtLlnY",
        "colab_type": "code",
        "colab": {}
      },
      "source": [
        "#getting dataset\n",
        "\n",
        "class WineDataset(Dataset):\n",
        "  def __init__(self,transform=None):\n",
        "    #data loading\n",
        "    xy = np.loadtxt('./wine.csv', delimiter=\",\", dtype=np.float32, skiprows=1)\n",
        "    self.n_samples = xy.shape[0]\n",
        "    \n",
        "    #note we dont convert to tensor here\n",
        "    self.x = xy[:,1:]\n",
        "    self.y = xy[:,[0]]  \n",
        "\n",
        "    self.transform = transform\n",
        "    \n",
        "\n",
        "  def __getitem__(self,index):\n",
        "    sample =  self.x[index], self.y[index]\n",
        "\n",
        "    if self.transform:\n",
        "      sample = self.transform(sample)\n",
        "\n",
        "    return sample\n",
        "\n",
        "  def __len__(self):\n",
        "    return self.n_samples\n",
        "\n",
        "\n",
        "#custom tranform to apply on our dataset\n",
        "\n",
        "class ToTensor(): #turns dataset into tensor \n",
        "  def __call__(self,sample):\n",
        "    inputs, targets = sample\n",
        "    return torch.from_numpy(inputs), torch.from_numpy(targets)\n",
        "\n",
        "class MulTransform: #Multiplier of dataset inputs \n",
        "  def __init__(self,factor):\n",
        "    self.factor = factor\n",
        "\n",
        "  def __call__(self,sample):\n",
        "    inputs, targets = sample\n",
        "    inputs *= self.factor\n",
        "    return inputs, targets\n",
        "\n",
        "\n",
        "dataset = WineDataset(transform=ToTensor()) #with class ToTensor()\n",
        "first_data = dataset[0]\n",
        "features,labels = first_data\n",
        "print(type(features),type(labels))"
      ],
      "execution_count": 0,
      "outputs": []
    },
    {
      "cell_type": "code",
      "metadata": {
        "id": "ZscCdQhLMvrW",
        "colab_type": "code",
        "colab": {}
      },
      "source": [
        "dataset = WineDataset() #without ToTensor() transform\n",
        "first_data = dataset[0]\n",
        "features,labels = first_data\n",
        "print(features)\n",
        "print(type(features),type(labels))"
      ],
      "execution_count": 0,
      "outputs": []
    },
    {
      "cell_type": "code",
      "metadata": {
        "id": "17GY3l_wNZfx",
        "colab_type": "code",
        "colab": {}
      },
      "source": [
        "#Multiple transforms with compose - To tensor and multiplic\n",
        "\n",
        "composed = torchvision.transforms.Compose([ToTensor(), MulTransform(2)])\n",
        "dataset = WineDataset(transform=composed)\n",
        "first_data = dataset[0]\n",
        "features,labels = first_data\n",
        "print(type(features),type(labels))\n",
        "print(features) #We see inputs are multiplied\n"
      ],
      "execution_count": 0,
      "outputs": []
    },
    {
      "cell_type": "markdown",
      "metadata": {
        "id": "QhlDuIj-PIG2",
        "colab_type": "text"
      },
      "source": [
        "# Softmax and Cross Entropy\n",
        "\n",
        "Most common functions in Neural Nets."
      ]
    },
    {
      "cell_type": "code",
      "metadata": {
        "id": "gznDrLDvOFQp",
        "colab_type": "code",
        "colab": {}
      },
      "source": [
        "#softmax - squashes output to be between 0 to 1, sum of values is 1. Making them probabilities\n",
        "\n",
        "def softmax(x):\n",
        "  return np.exp(x) / np.sum(np.exp(x), axis=0)\n",
        "\n",
        "x = np.array([2.0,1.0,0.1])\n",
        "outputs = softmax(x)\n",
        "print('softmax numpy', outputs)"
      ],
      "execution_count": 0,
      "outputs": []
    },
    {
      "cell_type": "code",
      "metadata": {
        "id": "DbHxAeyUPuqx",
        "colab_type": "code",
        "colab": {}
      },
      "source": [
        "#pytorch version\n",
        "x = torch.tensor([2.0,1.0,0.1])\n",
        "outputs = torch.softmax(x,dim=0)\n",
        "print(outputs)"
      ],
      "execution_count": 0,
      "outputs": []
    },
    {
      "cell_type": "markdown",
      "metadata": {
        "id": "Ym_9ixfqP7q8",
        "colab_type": "text"
      },
      "source": [
        "Usually **Softmax** is cmobined with **Cross-Entropy** Loss.\n",
        "\n",
        "CEL - this measures performace of our classification model, whose output is between 0 and 1.\n",
        "\n",
        "*   Good prediction has low cross entropy loss.\n",
        "*   Bad prediction has hight cross entropy loss.\n",
        "\n",
        "\n"
      ]
    },
    {
      "cell_type": "code",
      "metadata": {
        "id": "ref-nwBNP2e8",
        "colab_type": "code",
        "colab": {}
      },
      "source": [
        "def cross_entropy(actual, predicted):\n",
        "  loss = np.sum(actual * np.log(predicted))\n",
        "  return loss\n",
        "\n",
        "Y = np.array([1,0,0]) #one-hot encoded\n",
        "\n",
        "#y_pred has probabilities\n",
        "Y_pred_good = np.array([0.7,0.2,0.1])\n",
        "Y_pred_bad = np.array([0.1,0.3,0.6])\n",
        "l1 = cross_entropy(Y,Y_pred_good)\n",
        "l2 = cross_entropy(Y,Y_pred_bad)\n",
        "print(f'Loss1 numpy: {l1:.4f}') #low because good\n",
        "print(f'Loss2 numpy: {l2:.4f}') #high because bad"
      ],
      "execution_count": 0,
      "outputs": []
    },
    {
      "cell_type": "markdown",
      "metadata": {
        "id": "0Pe5Jik4SK0u",
        "colab_type": "text"
      },
      "source": [
        "# Pytorch version of Cross entropy and Softmax together\n",
        "\n",
        "*   already applies LogSoftmax, + negative log likelikehoodloss\n",
        "*   we just need to put correct classes, not one-hot encoding\n",
        "*   we dont need to indicate softmaxt on last layers on pytorch, crossentropy does that.\n",
        "\n",
        "\n",
        " \n"
      ]
    },
    {
      "cell_type": "code",
      "metadata": {
        "id": "ffREteuIRFQh",
        "colab_type": "code",
        "colab": {}
      },
      "source": [
        "loss = nn.CrossEntropyLoss() #already applies LogSoftmax, + negative log likelikehood loss\n",
        "# we just need to put correct classes, not one-hot encoding\n",
        "# we dont need to indicate softmaxt on last layers\n",
        "\n",
        "Y = torch.tensor([0]) #n_sanmples x n_clasess = 1x3\n",
        "Y_pred_good = torch.tensor([[2.0,1.0,0.1]])\n",
        "Y_pred_bad = torch.tensor([[0.5,2.0,0.3]])\n",
        "\n",
        "l1 = loss(Y_pred_good, Y)\n",
        "l2 = loss(Y_pred_bad, Y)\n",
        "\n",
        "print(l1.item())\n",
        "print(l2.item())\n",
        "\n"
      ],
      "execution_count": 0,
      "outputs": []
    },
    {
      "cell_type": "code",
      "metadata": {
        "id": "6a5ydgEXR_DB",
        "colab_type": "code",
        "colab": {}
      },
      "source": [
        "_,predictions1 = torch.max(Y_pred_good,1)\n",
        "_,predictions2 = torch.max(Y_pred_bad,1)\n",
        "print(predictions1) #in this case we choose 0 label\n",
        "print(predictions2) #in this case we choose 1 label"
      ],
      "execution_count": 0,
      "outputs": []
    },
    {
      "cell_type": "code",
      "metadata": {
        "id": "CPf6BmMjSZcQ",
        "colab_type": "code",
        "colab": {}
      },
      "source": [
        "# 3 samples\n",
        "Y = torch.tensor([2,0,1]) #n_sanmples x n_clasess = 3x3\n",
        "\n",
        "#n_sanmples x n_clasess = 3x3\n",
        "Y_pred_good = torch.tensor([[0.1,1.0,2.1],[2.0,1.0,0.1],[0.1,3.0,0.1]])\n",
        "Y_pred_bad = torch.tensor([[2.1,1.0,0.1],[0.1,1.0,2.1],[0.1,3.0,0.1]])\n",
        "\n",
        "l1 = loss(Y_pred_good, Y)\n",
        "l2 = loss(Y_pred_bad, Y)\n",
        "\n",
        "print(l1.item())\n",
        "print(l2.item())\n"
      ],
      "execution_count": 0,
      "outputs": []
    },
    {
      "cell_type": "code",
      "metadata": {
        "id": "gWuoyEM_TBpZ",
        "colab_type": "code",
        "colab": {}
      },
      "source": [
        "_,predictions1 = torch.max(Y_pred_good,1)\n",
        "_,predictions2 = torch.max(Y_pred_bad,1)\n",
        "print(predictions1) #in this case we choose 0 label\n",
        "print(predictions2) #in this case we choose 1 label"
      ],
      "execution_count": 0,
      "outputs": []
    },
    {
      "cell_type": "markdown",
      "metadata": {
        "id": "Zy5zwGwKTwbY",
        "colab_type": "text"
      },
      "source": [
        "# Neural Net with Softmatx - Multiclass\n",
        "E.g. predicting dog or cat, or bird etc..."
      ]
    },
    {
      "cell_type": "code",
      "metadata": {
        "id": "B_w7IGfmTzSW",
        "colab_type": "code",
        "colab": {}
      },
      "source": [
        "class NeuralNet2(nn.Module):\n",
        "  def __init__(self,input_size,hidden_size,num_classes):\n",
        "    super(NeuralNet2, self).__init__()\n",
        "    self.linear1 = nn.Linear(input_size,hidden_size) #linear layer, with input size, hidden size\n",
        "    self.reul = nn.ReLU() #Activation function in between\n",
        "    self.linear2 = nn.Linear(hidden_size, num_classes) #last layer, hidden size + output num_classes\n",
        "\n",
        "  def forward(self,x):\n",
        "    out = self.linear1(x)\n",
        "    out = self.relu(out)\n",
        "    out = self.linear2(out)\n",
        "    #no softmax at the end\n",
        "    return out\n",
        "\n",
        "model = NeuralNet2(input_size=28*28, hidden_size=5, num_classes=3)\n",
        "criterion = nn.CrossEntropyLoss() # (applies Softmax)"
      ],
      "execution_count": 0,
      "outputs": []
    },
    {
      "cell_type": "markdown",
      "metadata": {
        "id": "DteOKMWoVbtf",
        "colab_type": "text"
      },
      "source": [
        "# Neural Net with Sigmoid (BINARY)\n",
        "E.g. predicting if it's a dog. YES/NO"
      ]
    },
    {
      "cell_type": "code",
      "metadata": {
        "id": "SA_hMq6vVpnE",
        "colab_type": "code",
        "colab": {}
      },
      "source": [
        "class NeuralNet1(nn.Module):\n",
        "  def __init__(self,input_size,hidden_size):\n",
        "    super(NeuralNet1, self).__init__()\n",
        "    self.linear1 = nn.Linear(input_size, hidden_size) #set up laye1 \n",
        "    self.relu = nn.ReLu()\n",
        "    self.linear2 = nn.Linear(hidden_size,1) #last layer has output size 1. Always fixed in this case\n",
        "\n",
        "  def forward(self, x):\n",
        "    out = self.linear1(x)\n",
        "    out = self.relu(out)\n",
        "    out = self.linear2(out)\n",
        "    #sigmoid at the end \n",
        "    y_pred = torch.sigmoid(out) #must implement\n",
        "    return y_pred\n",
        "\n",
        "model = NeuralNet1(input_size=28*28, hidden_size=5)\n",
        "criterion = nn.BCELoss() #for criterion we use Binary Cross Entropy Loss."
      ],
      "execution_count": 0,
      "outputs": []
    },
    {
      "cell_type": "markdown",
      "metadata": {
        "id": "4U0Q5X7O4tv_",
        "colab_type": "text"
      },
      "source": [
        "# Activation Functions\n",
        "- Applier a linear transforamtion to layer output, and decide if neuron should be activated or not.\n",
        "- We need these activations, to make linear model applicable to complex tasks where simple linear models, are not able to perform."
      ]
    },
    {
      "cell_type": "markdown",
      "metadata": {
        "id": "WUut9cu-5IcX",
        "colab_type": "text"
      },
      "source": [
        "## Most popular activation functions\n",
        "1. Step Function\n",
        "2. Sigmoid\n",
        "3. TanH\n",
        "4. ReLU\n",
        "5. Leaky ReLU\n",
        "6. Softmax"
      ]
    },
    {
      "cell_type": "markdown",
      "metadata": {
        "id": "uFMKG7mY5xrF",
        "colab_type": "text"
      },
      "source": [
        "### Step Function\n",
        "* will output 1 if x >= 0, - Neuron will be activated\n",
        "* Else, if less than 0, will not activate neuron\n",
        "#### not used in practice"
      ]
    },
    {
      "cell_type": "code",
      "metadata": {
        "id": "ww634lUr50Kx",
        "colab_type": "code",
        "colab": {}
      },
      "source": [
        "#Sigmoid, we've seen previously, used in Binary classificaiton"
      ],
      "execution_count": 0,
      "outputs": []
    },
    {
      "cell_type": "code",
      "metadata": {
        "id": "NwwJg_jd6Awo",
        "colab_type": "code",
        "colab": {}
      },
      "source": [
        "#TanH Function - Basically scaled sigmoid function and little bit shifted. Outputs avlues (-1,1)\n",
        "# A good choice"
      ],
      "execution_count": 0,
      "outputs": []
    },
    {
      "cell_type": "markdown",
      "metadata": {
        "id": "PHqamgxO6IE-",
        "colab_type": "text"
      },
      "source": [
        "## ReLU \n",
        "Most popular function in most networks.\n",
        "\n",
        "![alt text](https://qph.fs.quoracdn.net/main-qimg-d23ac99265ab19599e71c9d1a3cb089a)\n",
        "\n",
        "f(x) = max(0,x)\n",
        "\n",
        "* Will output 0 for negative values\n",
        "* will output input for positive values. (Linear function for positive numbers)\n",
        "\n",
        "\n",
        "If you don't know which Activation function to use, always go for ReLU.\n"
      ]
    },
    {
      "cell_type": "markdown",
      "metadata": {
        "id": "WHR55fDj63E1",
        "colab_type": "text"
      },
      "source": [
        "# Leaky ReLU function\n",
        "* Positive remian the samin\n",
        "* Negatives are going to be multiplied with very smal value, like 0.001.\n",
        "* Tries to solve vanishing gradien problem. (in 0 values gradien is always 0, so weights in the 0 values will never be updated, hence with small values, it will slightly update them)\n",
        "* If weights don't update during traininig us Leaky ReLU."
      ]
    },
    {
      "cell_type": "code",
      "metadata": {
        "id": "tggGrL8Y66Xo",
        "colab_type": "code",
        "colab": {}
      },
      "source": [
        "#Softmax, we've done it in previous lectures. Get probability as an output. \n",
        "#Good choice in last layer of multiclass classification/"
      ],
      "execution_count": 0,
      "outputs": []
    },
    {
      "cell_type": "code",
      "metadata": {
        "id": "BaY4juOr8Szl",
        "colab_type": "code",
        "colab": {}
      },
      "source": [
        "import torch\n",
        "import torch.nn as nn\n",
        "import torch.nn.functional as F"
      ],
      "execution_count": 0,
      "outputs": []
    },
    {
      "cell_type": "code",
      "metadata": {
        "id": "36_dyL2o7VJK",
        "colab_type": "code",
        "colab": {}
      },
      "source": [
        "#first way how to use it\n",
        "class NeuralNet(nn.Module):\n",
        "  def __init__(self,input_size,hidden_size):\n",
        "    super(NeuralNet, self).__init__()\n",
        "    self.linear1 = nn.Linear(input_size, hidden_size)\n",
        "    self.relu = nn.ReLU()\n",
        "    self.linear2 = nn.Linear(hidden_size,1)\n",
        "    self.sigmoid = nn.Sigmoid()\n",
        "\n",
        "  def forward(self,x):\n",
        "    out = self.linear1(x) #here we use premade linear and input inputs\n",
        "    out = self.relu(out) #here we put previous results into relu\n",
        "    out = self.linear2(out) #we 2nd linear layer\n",
        "    out = self.sigmoid(out) #we run it via sigmoin in last layer, probably as for binary classification (yes/no)\n",
        "    return out\n"
      ],
      "execution_count": 0,
      "outputs": []
    },
    {
      "cell_type": "code",
      "metadata": {
        "id": "bBNJcfYZ8O5K",
        "colab_type": "code",
        "colab": {
          "base_uri": "https://localhost:8080/",
          "height": 35
        },
        "outputId": "cb022f73-f54e-4cc0-9f2a-727367395165"
      },
      "source": [
        "#second way to use it directly. Both ways are good, it's your preference how you like your code\n",
        "\n",
        "class NeuralNet(nn.Module):\n",
        "  def __init__(self,input_size,hidden_size):\n",
        "    super(NeuralNet, self).__init__()\n",
        "    self.linear1 = nn.Linear(input_size, hidden_size)\n",
        "    self.linear2 = nn.Linear(hidden_size,1)\n",
        "\n",
        "  def forward(self,x):\n",
        "    out = torch.relu(self.linear1(x)) #directly, just from torch API\n",
        "    out = torhc.sigmoid(self.linear2(out)) #directly, just from torch API\n",
        "    return out\n",
        "\n",
        "\n",
        "#tanh, sigmoid, leaky relu, softmax, are also available in torch API. \n",
        "\n",
        "#also via pytorch functional\n",
        "F.leaky_relu\n",
        "F.tanh\n",
        "F.sigmoid\n",
        "F.softmax #etc..."
      ],
      "execution_count": 49,
      "outputs": [
        {
          "output_type": "execute_result",
          "data": {
            "text/plain": [
              "<function torch.nn.functional.softmax>"
            ]
          },
          "metadata": {
            "tags": []
          },
          "execution_count": 49
        }
      ]
    },
    {
      "cell_type": "markdown",
      "metadata": {
        "id": "K_GvgYfB9fyW",
        "colab_type": "text"
      },
      "source": [
        "# Feed-Forward Neural Network\n",
        "We will build, mnist clasification NN."
      ]
    },
    {
      "cell_type": "code",
      "metadata": {
        "id": "CLpI84B08xBK",
        "colab_type": "code",
        "colab": {}
      },
      "source": [
        "# MNIST\n",
        "# Dataloader, transformation\n",
        "# Multilayer Neural net, activation function\n",
        "# Loss and Optimizer\n",
        "# Traininig loop (Batch traininig)\n",
        "# Model evaluation\n",
        "# GPU support"
      ],
      "execution_count": 0,
      "outputs": []
    },
    {
      "cell_type": "code",
      "metadata": {
        "id": "hWC0iH5w9y8C",
        "colab_type": "code",
        "colab": {}
      },
      "source": [
        "import torch\n",
        "import torch.nn as nn\n",
        "import torchvision\n",
        "import torchvision.transforms as transforms\n",
        "import matplotlib.pyplot as plt\n",
        "\n",
        "#device config\n",
        "#device = torch.device('cuda' if torch.cuda.is_available() else 'cpu')\n",
        "\n",
        "#hyper parameters\n",
        "input_size = 784 # because images are 28 x 28 (when we flatted to 1d it will be 28*28 = 784)\n",
        "hidden_size = 100 #can be any here\n",
        "num_classes = 10 #because we have 10 digins from 0 to 9\n",
        "num_epochs = 2 #can adjust\n",
        "batch_size = 100\n",
        "learninig_rate = 0.001\n",
        "\n",
        "# Mnist data importing\n",
        "train_dataset = torchvision.datasets.MNIST(root='./data', train=True,\n",
        "                                           transform=transforms.ToTensor(),\n",
        "                                           download=True)\n",
        "test_dataset = torchvision.datasets.MNIST(root='./data', train=False,\n",
        "                                           transform=transforms.ToTensor())\n"
      ],
      "execution_count": 0,
      "outputs": []
    },
    {
      "cell_type": "code",
      "metadata": {
        "id": "RGmkw9bA99rg",
        "colab_type": "code",
        "colab": {}
      },
      "source": [
        "# Data loader\n",
        "train_loader = torch.utils.data.DataLoader(dataset=train_dataset, batch_size=batch_size,\n",
        "                                           shuffle=True)\n",
        "\n",
        "test_loader = torch.utils.data.DataLoader(dataset=test_dataset, batch_size=batch_size,\n",
        "                                           shuffle=False)"
      ],
      "execution_count": 0,
      "outputs": []
    },
    {
      "cell_type": "code",
      "metadata": {
        "id": "8HGv33i3_B8a",
        "colab_type": "code",
        "colab": {
          "base_uri": "https://localhost:8080/",
          "height": 35
        },
        "outputId": "dce34ad3-3311-4ec0-8a71-33b016b78b7d"
      },
      "source": [
        "#view batch, this example data\n",
        "examples = iter(train_loader)\n",
        "samples,labels = examples.next()\n",
        "print(samples.shape, labels.shape)"
      ],
      "execution_count": 38,
      "outputs": [
        {
          "output_type": "stream",
          "text": [
            "torch.Size([100, 1, 28, 28]) torch.Size([100])\n"
          ],
          "name": "stdout"
        }
      ]
    },
    {
      "cell_type": "code",
      "metadata": {
        "id": "vqOO98Ga_L0w",
        "colab_type": "code",
        "colab": {
          "base_uri": "https://localhost:8080/",
          "height": 268
        },
        "outputId": "29088db6-ea0e-4dcc-974e-efa6cc0062fc"
      },
      "source": [
        "#lets plot it, see the images\n",
        "for i in range(9):\n",
        "  plt.subplot(3,3,i+1)\n",
        "  plt.imshow(samples[i][0], cmap='gray')\n",
        "plt.show()"
      ],
      "execution_count": 39,
      "outputs": [
        {
          "output_type": "display_data",
          "data": {
            "image/png": "[encoded data removed]",
            "text/plain": [
              "<Figure size 432x288 with 9 Axes>"
            ]
          },
          "metadata": {
            "tags": [],
            "needs_background": "light"
          }
        }
      ]
    },
    {
      "cell_type": "code",
      "metadata": {
        "id": "7cGeoygu_khy",
        "colab_type": "code",
        "colab": {}
      },
      "source": [
        "class NeuralNet(nn.Module):\n",
        "  def __init__(self,input_size,hidden_size,num_classes):\n",
        "    super(NeuralNet, self).__init__()\n",
        "    self.input_size = input_size\n",
        "    self.l1 = nn.Linear(input_size, hidden_size)\n",
        "    self.relu = nn.ReLU()\n",
        "    self.l2 = nn.Linear(hidden_size, num_classes) #input size is hidden size, output is number of lcasses\n",
        "\n",
        "  def forward(self,x):\n",
        "    out = self.l1(x)\n",
        "    out = self.relu(out)\n",
        "    out = self.l2(out)\n",
        "    return out\n",
        "    #we dont apply softmax here, as we will use cross entropy, which will apply softmax for us\n",
        "\n",
        "model = NeuralNet(input_size, hidden_size, num_classes)"
      ],
      "execution_count": 0,
      "outputs": []
    },
    {
      "cell_type": "code",
      "metadata": {
        "id": "eqv2M_IuAeey",
        "colab_type": "code",
        "colab": {}
      },
      "source": [
        "# loss and optimizer\n",
        "criterion  = nn.CrossEntropyLoss() #thats why we dont use it in forward\n",
        "optimizer = torch.optim.Adam(model.parameters(), lr=learninig_rate)\n"
      ],
      "execution_count": 0,
      "outputs": []
    },
    {
      "cell_type": "code",
      "metadata": {
        "id": "T4O-nQTSAkz3",
        "colab_type": "code",
        "colab": {
          "base_uri": "https://localhost:8080/",
          "height": 233
        },
        "outputId": "0c5ed22c-711e-4293-8965-64f0e9ff3384"
      },
      "source": [
        "# traininig loop\n",
        "n_total_steps = len(train_loader)\n",
        "\n",
        "for epoch in range(num_epochs):\n",
        "  for i, (images,labels) in enumerate(train_loader):\n",
        "    # We need to reshape images 100, 1, 28, 28\n",
        "    # We need to make 784\n",
        "    # 100, 784\n",
        "    images = images.reshape(-1,28*28)\n",
        "    labels = labels\n",
        "\n",
        "    # forward pass\n",
        "    outputs = model(images)\n",
        "    loss = criterion(outputs, labels)\n",
        "\n",
        "    # backward pass\n",
        "    optimizer.zero_grad()\n",
        "    loss.backward()\n",
        "    optimizer.step()\n",
        "\n",
        "    #lets print loss\n",
        "    if(i+1) % 100 == 0:\n",
        "      print(f'epoch {epoch+1} / {num_epochs}, step {i+1}/{n_total_steps}, loss = {loss.item():.4f}')\n"
      ],
      "execution_count": 43,
      "outputs": [
        {
          "output_type": "stream",
          "text": [
            "epoch 1 / 2, step 100/600, loss = 0.5271\n",
            "epoch 1 / 2, step 200/600, loss = 0.2808\n",
            "epoch 1 / 2, step 300/600, loss = 0.1726\n",
            "epoch 1 / 2, step 400/600, loss = 0.1999\n",
            "epoch 1 / 2, step 500/600, loss = 0.2398\n",
            "epoch 1 / 2, step 600/600, loss = 0.1471\n",
            "epoch 2 / 2, step 100/600, loss = 0.1553\n",
            "epoch 2 / 2, step 200/600, loss = 0.1887\n",
            "epoch 2 / 2, step 300/600, loss = 0.2687\n",
            "epoch 2 / 2, step 400/600, loss = 0.1777\n",
            "epoch 2 / 2, step 500/600, loss = 0.1476\n",
            "epoch 2 / 2, step 600/600, loss = 0.1502\n"
          ],
          "name": "stdout"
        }
      ]
    },
    {
      "cell_type": "code",
      "metadata": {
        "id": "zRhi_nqLCA2n",
        "colab_type": "code",
        "colab": {
          "base_uri": "https://localhost:8080/",
          "height": 35
        },
        "outputId": "0937ca02-380c-41c7-cd97-7b019f240016"
      },
      "source": [
        "# test\n",
        "with torch.no_grad():\n",
        "  n_correct = 0\n",
        "  n_samples = 0\n",
        "  for images, labels in test_loader:\n",
        "    images = images.reshape(-1,28*28)\n",
        "    labels = labels\n",
        "    outputs = model(images)\n",
        "\n",
        "    # max. will return values, and index - so we want index, as it's waht we need\n",
        "    _,predictions = torch.max(outputs,1)\n",
        "    n_samples += labels.shape[0]\n",
        "    n_correct += (predictions == labels).sum().item() #so each rorrect prediction will add one\n",
        " \n",
        "  accuracy = 100* n_correct / n_samples\n",
        "  print(f'Accuracy = {accuracy}')"
      ],
      "execution_count": 47,
      "outputs": [
        {
          "output_type": "stream",
          "text": [
            "Accuracy = 95.24\n"
          ],
          "name": "stdout"
        }
      ]
    },
    {
      "cell_type": "code",
      "metadata": {
        "id": "LurTCFowEimp",
        "colab_type": "code",
        "colab": {}
      },
      "source": [
        "# Next CNN"
      ],
      "execution_count": 0,
      "outputs": []
    }
  ]
}